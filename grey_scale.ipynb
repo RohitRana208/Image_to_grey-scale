{
  "nbformat": 4,
  "nbformat_minor": 0,
  "metadata": {
    "colab": {
      "provenance": [],
      "authorship_tag": "ABX9TyOvHooF8Lo8isdP7Vc0uxNZ",
      "include_colab_link": true
    },
    "kernelspec": {
      "name": "python3",
      "display_name": "Python 3"
    },
    "language_info": {
      "name": "python"
    }
  },
  "cells": [
    {
      "cell_type": "markdown",
      "metadata": {
        "id": "view-in-github",
        "colab_type": "text"
      },
      "source": [
        "<a href=\"https://colab.research.google.com/github/RohitRana208/Image_to_grey-scale/blob/main/grey_scale.ipynb\" target=\"_parent\"><img src=\"https://colab.research.google.com/assets/colab-badge.svg\" alt=\"Open In Colab\"/></a>"
      ]
    },
    {
      "cell_type": "code",
      "source": [
        "!pip install opencv-python"
      ],
      "metadata": {
        "colab": {
          "base_uri": "https://localhost:8080/"
        },
        "id": "u5Gu23DBglIr",
        "outputId": "6e2684de-f52d-4aa7-9c80-4b6bd9dad68c"
      },
      "execution_count": 2,
      "outputs": [
        {
          "output_type": "stream",
          "name": "stdout",
          "text": [
            "Looking in indexes: https://pypi.org/simple, https://us-python.pkg.dev/colab-wheels/public/simple/\n",
            "Requirement already satisfied: opencv-python in /usr/local/lib/python3.10/dist-packages (4.7.0.72)\n",
            "Requirement already satisfied: numpy>=1.21.2 in /usr/local/lib/python3.10/dist-packages (from opencv-python) (1.22.4)\n"
          ]
        }
      ]
    },
    {
      "cell_type": "code",
      "source": [
        "import cv2\n",
        "\n",
        "# Set the path to the input image file\n",
        "image_path = '/content/picture2.png'\n",
        "\n",
        "# Read the image\n",
        "image = cv2.imread(image_path)\n",
        "\n",
        "# Convert the image to grayscale\n",
        "gray_image = cv2.cvtColor(image, cv2.COLOR_BGR2GRAY)\n",
        "\n",
        "# Set the path for the output grayscale image\n",
        "output_path = '/content/gray_picture2.png'\n",
        "\n",
        "# Save the grayscale image\n",
        "cv2.imwrite(output_path, gray_image)\n",
        "\n",
        "print('Image converted to grayscale. Saved as:', output_path)\n"
      ],
      "metadata": {
        "colab": {
          "base_uri": "https://localhost:8080/"
        },
        "id": "dWvgZc6TvHk7",
        "outputId": "ada48ec4-03fa-47d1-b489-caf778127bbc"
      },
      "execution_count": 12,
      "outputs": [
        {
          "output_type": "stream",
          "name": "stdout",
          "text": [
            "Image converted to grayscale. Saved as: /content/gray_picture2.png\n"
          ]
        }
      ]
    }
  ]
}